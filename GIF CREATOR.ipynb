{
 "cells": [
  {
   "cell_type": "code",
   "execution_count": 1,
   "id": "10afd8ae",
   "metadata": {},
   "outputs": [
    {
     "name": "stdout",
     "output_type": "stream",
     "text": [
      "Requirement already satisfied: moviepy in c:\\users\\saibaba\\anaconda3\\lib\\site-packages (1.0.3)\n",
      "Requirement already satisfied: decorator<5.0,>=4.0.2 in c:\\users\\saibaba\\anaconda3\\lib\\site-packages (from moviepy) (4.4.2)\n",
      "Requirement already satisfied: tqdm<5.0,>=4.11.2 in c:\\users\\saibaba\\anaconda3\\lib\\site-packages (from moviepy) (4.65.0)\n",
      "Requirement already satisfied: requests<3.0,>=2.8.1 in c:\\users\\saibaba\\anaconda3\\lib\\site-packages (from moviepy) (2.29.0)\n",
      "Requirement already satisfied: proglog<=1.0.0 in c:\\users\\saibaba\\anaconda3\\lib\\site-packages (from moviepy) (0.1.10)\n",
      "Requirement already satisfied: numpy>=1.17.3 in c:\\users\\saibaba\\anaconda3\\lib\\site-packages (from moviepy) (1.24.3)\n",
      "Requirement already satisfied: imageio<3.0,>=2.5 in c:\\users\\saibaba\\anaconda3\\lib\\site-packages (from moviepy) (2.26.0)\n",
      "Requirement already satisfied: imageio-ffmpeg>=0.2.0 in c:\\users\\saibaba\\anaconda3\\lib\\site-packages (from moviepy) (0.5.1)\n",
      "Requirement already satisfied: pillow>=8.3.2 in c:\\users\\saibaba\\anaconda3\\lib\\site-packages (from imageio<3.0,>=2.5->moviepy) (9.4.0)\n",
      "Requirement already satisfied: setuptools in c:\\users\\saibaba\\anaconda3\\lib\\site-packages (from imageio-ffmpeg>=0.2.0->moviepy) (67.8.0)\n",
      "Requirement already satisfied: charset-normalizer<4,>=2 in c:\\users\\saibaba\\anaconda3\\lib\\site-packages (from requests<3.0,>=2.8.1->moviepy) (2.0.4)\n",
      "Requirement already satisfied: idna<4,>=2.5 in c:\\users\\saibaba\\anaconda3\\lib\\site-packages (from requests<3.0,>=2.8.1->moviepy) (3.4)\n",
      "Requirement already satisfied: urllib3<1.27,>=1.21.1 in c:\\users\\saibaba\\anaconda3\\lib\\site-packages (from requests<3.0,>=2.8.1->moviepy) (1.26.16)\n",
      "Requirement already satisfied: certifi>=2017.4.17 in c:\\users\\saibaba\\anaconda3\\lib\\site-packages (from requests<3.0,>=2.8.1->moviepy) (2023.5.7)\n",
      "Requirement already satisfied: colorama in c:\\users\\saibaba\\anaconda3\\lib\\site-packages (from tqdm<5.0,>=4.11.2->moviepy) (0.4.6)\n",
      "Note: you may need to restart the kernel to use updated packages.\n"
     ]
    }
   ],
   "source": [
    "pip install moviepy"
   ]
  },
  {
   "cell_type": "code",
   "execution_count": 4,
   "id": "edc15f83",
   "metadata": {},
   "outputs": [
    {
     "name": "stdout",
     "output_type": "stream",
     "text": [
      "MoviePy - Building file thank you.gif with imageio.\n"
     ]
    },
    {
     "name": "stderr",
     "output_type": "stream",
     "text": [
      "                                                            \r"
     ]
    }
   ],
   "source": [
    "import moviepy.editor as mp\n",
    "\n",
    "def create_gif(image_files, output_gif, duration_per_image):\n",
    "    clips = [mp.ImageClip(image).set_duration(duration_per_image) for image in image_files]\n",
    "    \n",
    "    video = mp.concatenate_videoclips(clips, method=\"compose\")\n",
    "    \n",
    "    video.write_gif(output_gif, fps=24)\n",
    "\n",
    "if __name__ == \"__main__\":\n",
    "   \n",
    "    image_files = [ \"image1.png\", \"image2.png\",\"image3.png\" ]\n",
    "    \n",
    "    output_gif = \"thank you.gif\"\n",
    "    \n",
    "    duration_per_image = 1\n",
    "    \n",
    "    create_gif(image_files, output_gif, duration_per_image)\n"
   ]
  },
  {
   "cell_type": "code",
   "execution_count": null,
   "id": "5723ba0a",
   "metadata": {},
   "outputs": [],
   "source": []
  }
 ],
 "metadata": {
  "kernelspec": {
   "display_name": "Python 3 (ipykernel)",
   "language": "python",
   "name": "python3"
  },
  "language_info": {
   "codemirror_mode": {
    "name": "ipython",
    "version": 3
   },
   "file_extension": ".py",
   "mimetype": "text/x-python",
   "name": "python",
   "nbconvert_exporter": "python",
   "pygments_lexer": "ipython3",
   "version": "3.11.3"
  }
 },
 "nbformat": 4,
 "nbformat_minor": 5
}
